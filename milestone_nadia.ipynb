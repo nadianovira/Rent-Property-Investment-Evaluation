{
 "cells": [
  {
   "cell_type": "markdown",
   "metadata": {},
   "source": [
    "``````\n",
    "https://public.tableau.com/shared/G9MBNC4ZH?:display_count=n&:origin=viz_share_link\n",
    "https://www.kaggle.com/code/dgomonov/data-exploration-on-nyc-airbnb\n",
    "``````"
   ]
  },
  {
   "cell_type": "markdown",
   "metadata": {},
   "source": [
    "## BACKGROUND\n",
    "Seorang investor pemula yang tinggal di Canada ingin menjalankan bisnis hospitalitynya di New York City, mengetahui informasi dari temannya bahwa banyaknya pendatang yang membutuhkan sewa property dibandingkan adanya rental property yang tersedia. Namun, sebelum menjalankan bisnisnya investor tersebut meminta data analyst untuk mengecek dan melakukan study kasus seperti daerah mana, dan jenis apartemen apa yang paling banyak peminatnya, dan perkiraan pendapatan dari bisnis penyewaan property di NYC.\n",
    "\n",
    "Investor tertarik menggunakan airbnb dikarenakan investor bisa langsung memasarkan unitnya, mengatur target market untuk property seperti untuk keluarga atau individual dan mengatur strategi harga untuk harian dan bulanan, dan promosi menarik. Investor pemula bisa menjalankan bisnis hospitalitynya sendiri dikarenakan lebih sedikit biaya investasi awal dan biaya maintenance. Aplikasi ini booming di berbagai negara dan karena entry barriers yang rendah maka semakin kompetitif persaingan antara pemilik property yang menjalankan bisnis ini.\n",
    "\n",
    "## PROBLEM STATEMENT  \n",
    "Investor ingin meningkatkan penghasilannya dengan membuka bisnis penyewaan property diluar negara asalnya Canada, tepatnya di NYC. Bisnis penyewaan tersebut diharapkan sudah berjalan awal Q2 tahun 2020. Investor ingin memaksimalkan penghasilan dari investasinya dengan membeli property pada lokasi yang ramai dan jenis apartemen yang paling banyak peminatnya.\n",
    "\n",
    "## SMART\n",
    "\n",
    "### Specific\n",
    "Investor meningkatkan penghasilan dari bisnis penyewaan di airbnb di NYC \n",
    "\n",
    "### Measure\n",
    "Minimum penghasilan yang didapatkan dalam setahun ialah $10,000\n",
    "\n",
    "### Achievable\n",
    "Memaksimalkan penghasilan investasi dari membuka bisnis penyewaan pada daerah yang ramai dan jenis apartemen yang paling banyak peminatnya.\n",
    "\n",
    "### Relevan\n",
    "Adanya shifting penyewaan dari konvensional hotel langsung ke pemilik property dan NYC merupakan kota yang ramai banyak pendatang yang membutuhkan sewa apartemen \n",
    "\n",
    "### Time Bound \n",
    "Target mendapatkan minimum penghasilan pada Q3 2021. "
   ]
  },
  {
   "cell_type": "markdown",
   "metadata": {},
   "source": [
    "## 5W1H\n",
    "Penjabaran masalah dengan metode 5W1H:\n",
    "\n",
    "1. Bagaimana perbandingan banyaknya penyewaan apartemen di tiap wilayah lokasi property\n",
    "\n",
    "2. Bagaimana perbandingan lokasi properti tiap wilayah dengan avg harga propertinya \n",
    "\n",
    "3. Bagaimana perbandingan tipe property dengan avg harga propertinya\n",
    "\n",
    "4. Bagaimana perbandingan tipe property dengan tingkat okupansi\n",
    "\n",
    "### Analisa inferential\n",
    "- membandingkan antara pendapatan 2 tipe property yang memiliki okupansi terendah dan okupasi tertinggi?\n",
    "\n",
    "### Analisa deskriptive \n",
    "- Berapa average, median, dan mode harga per malam di wilayah dan kawasan paling ramai di NYC? "
   ]
  },
  {
   "cell_type": "markdown",
   "metadata": {},
   "source": [
    "### DATA LOADING\n",
    "https://www.kaggle.com/code/dgomonov/data-exploration-on-nyc-airbnb"
   ]
  },
  {
   "cell_type": "code",
   "execution_count": 4,
   "metadata": {},
   "outputs": [],
   "source": [
    "import pandas as pd \n",
    "\n",
    "#membaca data listing report NYC tahun 2019\n",
    "data= pd.read_csv(\"AB_NYC_2019.csv\")\n"
   ]
  },
  {
   "cell_type": "code",
   "execution_count": 5,
   "metadata": {},
   "outputs": [
    {
     "name": "stdout",
     "output_type": "stream",
     "text": [
      "<class 'pandas.core.frame.DataFrame'>\n",
      "RangeIndex: 48895 entries, 0 to 48894\n",
      "Data columns (total 16 columns):\n",
      " #   Column                          Non-Null Count  Dtype  \n",
      "---  ------                          --------------  -----  \n",
      " 0   id                              48895 non-null  int64  \n",
      " 1   name                            48879 non-null  object \n",
      " 2   host_id                         48895 non-null  int64  \n",
      " 3   host_name                       48874 non-null  object \n",
      " 4   neighbourhood_group             48895 non-null  object \n",
      " 5   neighbourhood                   48895 non-null  object \n",
      " 6   latitude                        48895 non-null  float64\n",
      " 7   longitude                       48895 non-null  float64\n",
      " 8   room_type                       48895 non-null  object \n",
      " 9   price                           48895 non-null  int64  \n",
      " 10  minimum_nights                  48895 non-null  int64  \n",
      " 11  number_of_reviews               48895 non-null  int64  \n",
      " 12  last_review                     38843 non-null  object \n",
      " 13  reviews_per_month               38843 non-null  float64\n",
      " 14  calculated_host_listings_count  48895 non-null  int64  \n",
      " 15  availability_365                48895 non-null  int64  \n",
      "dtypes: float64(3), int64(7), object(6)\n",
      "memory usage: 6.0+ MB\n"
     ]
    },
    {
     "data": {
      "text/html": [
       "<div>\n",
       "<style scoped>\n",
       "    .dataframe tbody tr th:only-of-type {\n",
       "        vertical-align: middle;\n",
       "    }\n",
       "\n",
       "    .dataframe tbody tr th {\n",
       "        vertical-align: top;\n",
       "    }\n",
       "\n",
       "    .dataframe thead th {\n",
       "        text-align: right;\n",
       "    }\n",
       "</style>\n",
       "<table border=\"1\" class=\"dataframe\">\n",
       "  <thead>\n",
       "    <tr style=\"text-align: right;\">\n",
       "      <th></th>\n",
       "      <th>id</th>\n",
       "      <th>name</th>\n",
       "      <th>host_id</th>\n",
       "      <th>host_name</th>\n",
       "      <th>neighbourhood_group</th>\n",
       "      <th>neighbourhood</th>\n",
       "      <th>latitude</th>\n",
       "      <th>longitude</th>\n",
       "      <th>room_type</th>\n",
       "      <th>price</th>\n",
       "      <th>minimum_nights</th>\n",
       "      <th>number_of_reviews</th>\n",
       "      <th>last_review</th>\n",
       "      <th>reviews_per_month</th>\n",
       "      <th>calculated_host_listings_count</th>\n",
       "      <th>availability_365</th>\n",
       "    </tr>\n",
       "  </thead>\n",
       "  <tbody>\n",
       "    <tr>\n",
       "      <th>0</th>\n",
       "      <td>2539</td>\n",
       "      <td>Clean &amp; quiet apt home by the park</td>\n",
       "      <td>2787</td>\n",
       "      <td>John</td>\n",
       "      <td>Brooklyn</td>\n",
       "      <td>Kensington</td>\n",
       "      <td>40.64749</td>\n",
       "      <td>-73.97237</td>\n",
       "      <td>Private room</td>\n",
       "      <td>149</td>\n",
       "      <td>1</td>\n",
       "      <td>9</td>\n",
       "      <td>2018-10-19</td>\n",
       "      <td>0.21</td>\n",
       "      <td>6</td>\n",
       "      <td>365</td>\n",
       "    </tr>\n",
       "    <tr>\n",
       "      <th>1</th>\n",
       "      <td>2595</td>\n",
       "      <td>Skylit Midtown Castle</td>\n",
       "      <td>2845</td>\n",
       "      <td>Jennifer</td>\n",
       "      <td>Manhattan</td>\n",
       "      <td>Midtown</td>\n",
       "      <td>40.75362</td>\n",
       "      <td>-73.98377</td>\n",
       "      <td>Entire home/apt</td>\n",
       "      <td>225</td>\n",
       "      <td>1</td>\n",
       "      <td>45</td>\n",
       "      <td>2019-05-21</td>\n",
       "      <td>0.38</td>\n",
       "      <td>2</td>\n",
       "      <td>355</td>\n",
       "    </tr>\n",
       "    <tr>\n",
       "      <th>2</th>\n",
       "      <td>3647</td>\n",
       "      <td>THE VILLAGE OF HARLEM....NEW YORK !</td>\n",
       "      <td>4632</td>\n",
       "      <td>Elisabeth</td>\n",
       "      <td>Manhattan</td>\n",
       "      <td>Harlem</td>\n",
       "      <td>40.80902</td>\n",
       "      <td>-73.94190</td>\n",
       "      <td>Private room</td>\n",
       "      <td>150</td>\n",
       "      <td>3</td>\n",
       "      <td>0</td>\n",
       "      <td>NaN</td>\n",
       "      <td>NaN</td>\n",
       "      <td>1</td>\n",
       "      <td>365</td>\n",
       "    </tr>\n",
       "    <tr>\n",
       "      <th>3</th>\n",
       "      <td>3831</td>\n",
       "      <td>Cozy Entire Floor of Brownstone</td>\n",
       "      <td>4869</td>\n",
       "      <td>LisaRoxanne</td>\n",
       "      <td>Brooklyn</td>\n",
       "      <td>Clinton Hill</td>\n",
       "      <td>40.68514</td>\n",
       "      <td>-73.95976</td>\n",
       "      <td>Entire home/apt</td>\n",
       "      <td>89</td>\n",
       "      <td>1</td>\n",
       "      <td>270</td>\n",
       "      <td>2019-07-05</td>\n",
       "      <td>4.64</td>\n",
       "      <td>1</td>\n",
       "      <td>194</td>\n",
       "    </tr>\n",
       "    <tr>\n",
       "      <th>4</th>\n",
       "      <td>5022</td>\n",
       "      <td>Entire Apt: Spacious Studio/Loft by central park</td>\n",
       "      <td>7192</td>\n",
       "      <td>Laura</td>\n",
       "      <td>Manhattan</td>\n",
       "      <td>East Harlem</td>\n",
       "      <td>40.79851</td>\n",
       "      <td>-73.94399</td>\n",
       "      <td>Entire home/apt</td>\n",
       "      <td>80</td>\n",
       "      <td>10</td>\n",
       "      <td>9</td>\n",
       "      <td>2018-11-19</td>\n",
       "      <td>0.10</td>\n",
       "      <td>1</td>\n",
       "      <td>0</td>\n",
       "    </tr>\n",
       "  </tbody>\n",
       "</table>\n",
       "</div>"
      ],
      "text/plain": [
       "     id                                              name  host_id  \\\n",
       "0  2539                Clean & quiet apt home by the park     2787   \n",
       "1  2595                             Skylit Midtown Castle     2845   \n",
       "2  3647               THE VILLAGE OF HARLEM....NEW YORK !     4632   \n",
       "3  3831                   Cozy Entire Floor of Brownstone     4869   \n",
       "4  5022  Entire Apt: Spacious Studio/Loft by central park     7192   \n",
       "\n",
       "     host_name neighbourhood_group neighbourhood  latitude  longitude  \\\n",
       "0         John            Brooklyn    Kensington  40.64749  -73.97237   \n",
       "1     Jennifer           Manhattan       Midtown  40.75362  -73.98377   \n",
       "2    Elisabeth           Manhattan        Harlem  40.80902  -73.94190   \n",
       "3  LisaRoxanne            Brooklyn  Clinton Hill  40.68514  -73.95976   \n",
       "4        Laura           Manhattan   East Harlem  40.79851  -73.94399   \n",
       "\n",
       "         room_type  price  minimum_nights  number_of_reviews last_review  \\\n",
       "0     Private room    149               1                  9  2018-10-19   \n",
       "1  Entire home/apt    225               1                 45  2019-05-21   \n",
       "2     Private room    150               3                  0         NaN   \n",
       "3  Entire home/apt     89               1                270  2019-07-05   \n",
       "4  Entire home/apt     80              10                  9  2018-11-19   \n",
       "\n",
       "   reviews_per_month  calculated_host_listings_count  availability_365  \n",
       "0               0.21                               6               365  \n",
       "1               0.38                               2               355  \n",
       "2                NaN                               1               365  \n",
       "3               4.64                               1               194  \n",
       "4               0.10                               1                 0  "
      ]
     },
     "execution_count": 5,
     "metadata": {},
     "output_type": "execute_result"
    }
   ],
   "source": [
    "#mengecek info dari data tersebut\n",
    "data.info()\n",
    "\n",
    "#menampilkan 5 data terakhir \n",
    "data.head()"
   ]
  },
  {
   "cell_type": "markdown",
   "metadata": {},
   "source": [
    "Insight: \n",
    "- Dari open data airbnb tahun 2019, diketahui terdapat 15 kolom informasi dengan total 48,879 data. \n",
    "- Tidak terdapat data duplicate\n",
    "- Tipe data setiap kolom sudah sesuai dengan peruntukannya sehingga tidak perlu merubah format data"
   ]
  },
  {
   "cell_type": "markdown",
   "metadata": {},
   "source": [
    "Deskripsi dari kolom data \n",
    "- id                              : nomor id unit\n",
    "- name                            : nama unit   \n",
    "- host_id                         : nomor id host/penyewa   \n",
    "- host_name                       : nama host/penyewa \n",
    "- neighbourhood_group             : wilayah dari NYC  \n",
    "- neighbourhood                   : kawasan dari tiap wilayah (lebih spesifik) \n",
    "- latitude                        : garis lintang\n",
    "- longitude                       : garis bujur\n",
    "- room_type                       : tipe penyewaan apartemennya \n",
    "- price                           : harga sewa per malam   \n",
    "- minimum_nights                  : jumlah minimum nights jika menyewa  \n",
    "- number_of_reviews               : jumlah review\n",
    "- last_review                     : review terakhir kapan \n",
    "- reviews_per_month               : review tiap bulannya\n",
    "- calculated_host_listings_count  : jumlah listing tiap host  \n",
    "- availability_365                : jumlah ketersedian dalam setahun"
   ]
  },
  {
   "cell_type": "markdown",
   "metadata": {},
   "source": [
    "Terdapat dua kolom yang memiliki 10,000 data kosong, dikarenakan kolom 'last_review' dan 'reviews_per_month' tidak memiliki dampak berarti dari goal analisa ini maka kolomnya dihapus. Begitu juga dengan 'id', 'host_name' dan 'calculated_host_listings_count'"
   ]
  },
  {
   "cell_type": "markdown",
   "metadata": {},
   "source": [
    "### DATA PREPARATION"
   ]
  },
  {
   "cell_type": "code",
   "execution_count": 6,
   "metadata": {},
   "outputs": [],
   "source": [
    "#delete kolom \"last_review\" dan \"reviews_per_month\" dan yang tidak dibutuhkan dalam mencapai goalsnya\n",
    "del(data['last_review'],data['reviews_per_month'], data['id'], data['host_name'],data['calculated_host_listings_count'])"
   ]
  },
  {
   "cell_type": "code",
   "execution_count": 7,
   "metadata": {},
   "outputs": [
    {
     "data": {
      "text/html": [
       "<div>\n",
       "<style scoped>\n",
       "    .dataframe tbody tr th:only-of-type {\n",
       "        vertical-align: middle;\n",
       "    }\n",
       "\n",
       "    .dataframe tbody tr th {\n",
       "        vertical-align: top;\n",
       "    }\n",
       "\n",
       "    .dataframe thead th {\n",
       "        text-align: right;\n",
       "    }\n",
       "</style>\n",
       "<table border=\"1\" class=\"dataframe\">\n",
       "  <thead>\n",
       "    <tr style=\"text-align: right;\">\n",
       "      <th></th>\n",
       "      <th>name</th>\n",
       "      <th>host_id</th>\n",
       "      <th>neighbourhood_group</th>\n",
       "      <th>neighbourhood</th>\n",
       "      <th>latitude</th>\n",
       "      <th>longitude</th>\n",
       "      <th>room_type</th>\n",
       "      <th>price</th>\n",
       "      <th>minimum_nights</th>\n",
       "      <th>number_of_reviews</th>\n",
       "      <th>availability_365</th>\n",
       "    </tr>\n",
       "  </thead>\n",
       "  <tbody>\n",
       "    <tr>\n",
       "      <th>48892</th>\n",
       "      <td>Sunny Studio at Historical Neighborhood</td>\n",
       "      <td>23492952</td>\n",
       "      <td>Manhattan</td>\n",
       "      <td>Harlem</td>\n",
       "      <td>40.81475</td>\n",
       "      <td>-73.94867</td>\n",
       "      <td>Entire home/apt</td>\n",
       "      <td>115</td>\n",
       "      <td>10</td>\n",
       "      <td>0</td>\n",
       "      <td>27</td>\n",
       "    </tr>\n",
       "    <tr>\n",
       "      <th>48893</th>\n",
       "      <td>43rd St. Time Square-cozy single bed</td>\n",
       "      <td>30985759</td>\n",
       "      <td>Manhattan</td>\n",
       "      <td>Hell's Kitchen</td>\n",
       "      <td>40.75751</td>\n",
       "      <td>-73.99112</td>\n",
       "      <td>Shared room</td>\n",
       "      <td>55</td>\n",
       "      <td>1</td>\n",
       "      <td>0</td>\n",
       "      <td>2</td>\n",
       "    </tr>\n",
       "    <tr>\n",
       "      <th>48894</th>\n",
       "      <td>Trendy duplex in the very heart of Hell's Kitchen</td>\n",
       "      <td>68119814</td>\n",
       "      <td>Manhattan</td>\n",
       "      <td>Hell's Kitchen</td>\n",
       "      <td>40.76404</td>\n",
       "      <td>-73.98933</td>\n",
       "      <td>Private room</td>\n",
       "      <td>90</td>\n",
       "      <td>7</td>\n",
       "      <td>0</td>\n",
       "      <td>23</td>\n",
       "    </tr>\n",
       "  </tbody>\n",
       "</table>\n",
       "</div>"
      ],
      "text/plain": [
       "                                                    name   host_id  \\\n",
       "48892            Sunny Studio at Historical Neighborhood  23492952   \n",
       "48893               43rd St. Time Square-cozy single bed  30985759   \n",
       "48894  Trendy duplex in the very heart of Hell's Kitchen  68119814   \n",
       "\n",
       "      neighbourhood_group   neighbourhood  latitude  longitude  \\\n",
       "48892           Manhattan          Harlem  40.81475  -73.94867   \n",
       "48893           Manhattan  Hell's Kitchen  40.75751  -73.99112   \n",
       "48894           Manhattan  Hell's Kitchen  40.76404  -73.98933   \n",
       "\n",
       "             room_type  price  minimum_nights  number_of_reviews  \\\n",
       "48892  Entire home/apt    115              10                  0   \n",
       "48893      Shared room     55               1                  0   \n",
       "48894     Private room     90               7                  0   \n",
       "\n",
       "       availability_365  \n",
       "48892                27  \n",
       "48893                 2  \n",
       "48894                23  "
      ]
     },
     "execution_count": 7,
     "metadata": {},
     "output_type": "execute_result"
    }
   ],
   "source": [
    "data.tail(3)"
   ]
  },
  {
   "cell_type": "markdown",
   "metadata": {},
   "source": [
    "kolom - kolom yang berisikan nul dan kosong telah hilang"
   ]
  },
  {
   "cell_type": "code",
   "execution_count": 8,
   "metadata": {},
   "outputs": [
    {
     "data": {
      "text/plain": [
       "0"
      ]
     },
     "execution_count": 8,
     "metadata": {},
     "output_type": "execute_result"
    }
   ],
   "source": [
    "#mengecek data duplicate\n",
    "data.duplicated().sum()"
   ]
  },
  {
   "cell_type": "markdown",
   "metadata": {},
   "source": [
    "Dari data tersebut tidak ada duplicate jadi tidak perlu menghilangkan duplicatesnya bisa langsung diproses"
   ]
  },
  {
   "cell_type": "code",
   "execution_count": 26,
   "metadata": {},
   "outputs": [
    {
     "data": {
      "text/plain": [
       "name                   16\n",
       "host_id                 0\n",
       "neighbourhood_group     0\n",
       "neighbourhood           0\n",
       "latitude                0\n",
       "longitude               0\n",
       "room_type               0\n",
       "price                   0\n",
       "minimum_nights          0\n",
       "number_of_reviews       0\n",
       "availability_365        0\n",
       "dtype: int64"
      ]
     },
     "execution_count": 26,
     "metadata": {},
     "output_type": "execute_result"
    }
   ],
   "source": [
    "#mengecek kembali data kosong\n",
    "data.isnull().sum()"
   ]
  },
  {
   "cell_type": "markdown",
   "metadata": {},
   "source": [
    "dari data tersebut terdapat 16 data kosong pada kolom nama, kita akan mengganti nya dengan keterangan info \"tidak ada nama\" "
   ]
  },
  {
   "cell_type": "code",
   "execution_count": 27,
   "metadata": {},
   "outputs": [],
   "source": [
    "#mengganti data kosong \"name\" dan \"host_name\" dengan \"tidak ada info\"\n",
    "data['name'] = data['name'].fillna('tidak ada info nama')"
   ]
  },
  {
   "cell_type": "markdown",
   "metadata": {},
   "source": [
    "### PENJABARAN MASALAH DENGAN 5W1H"
   ]
  },
  {
   "cell_type": "markdown",
   "metadata": {},
   "source": [
    "1. Bagaimana perbandingan banyaknya host di tiap wilayah lokasi property? \n",
    "\n",
    "Pertanyaan ini bertujuan untuk menjawab dimana \"wilayah yang paling ramai\", dikarenakan tidak ada nya informasi kolom terkait penyewa apartemen dan adanya info pada background bahwa informasi dari teman investir bahwa demand > supply maka di\"asumsi\"kan kota yang paling ramai ialah kota yang memiliki banyak penyewaan property\n"
   ]
  },
  {
   "cell_type": "code",
   "execution_count": 28,
   "metadata": {},
   "outputs": [
    {
     "data": {
      "text/plain": [
       "array(['Brooklyn', 'Manhattan', 'Queens', 'Staten Island', 'Bronx'],\n",
       "      dtype=object)"
      ]
     },
     "execution_count": 28,
     "metadata": {},
     "output_type": "execute_result"
    }
   ],
   "source": [
    "#menampilkan semua jenis kota dalam kolom kota\n",
    "data['neighbourhood_group'].unique()"
   ]
  },
  {
   "cell_type": "markdown",
   "metadata": {},
   "source": [
    "diketahui NYC terdiri dari 5 borough (wilayah)"
   ]
  },
  {
   "cell_type": "code",
   "execution_count": 11,
   "metadata": {},
   "outputs": [
    {
     "name": "stdout",
     "output_type": "stream",
     "text": [
      "Jumlah host di Brooklyn 20104\n",
      "Jumlah host di Manhattan 21661\n",
      "Jumlah host di Queens 5666\n",
      "Jumlah host di Statenisland 373\n",
      "Jumlah host di Bronx 1091\n"
     ]
    }
   ],
   "source": [
    "#menghitung jumlah banyaknya host di tiap wilayah\n",
    "Brooklyn = data[data['neighbourhood_group']=='Brooklyn']['host_id'].count()\n",
    "Manhattan = data[data['neighbourhood_group']=='Manhattan']['host_id'].count()\n",
    "Queens = data[data['neighbourhood_group']=='Queens']['host_id'].count()\n",
    "Statenisland = data[data['neighbourhood_group']=='Staten Island']['host_id'].count()\n",
    "Bronx = data[data['neighbourhood_group']=='Bronx']['host_id'].count()\n",
    "\n",
    "\n",
    "print('Jumlah host di Brooklyn', Brooklyn)\n",
    "print('Jumlah host di Manhattan', Manhattan)\n",
    "print('Jumlah host di Queens', Queens)\n",
    "print('Jumlah host di Statenisland', Statenisland)\n",
    "print('Jumlah host di Bronx', Bronx)\n",
    "\n"
   ]
  },
  {
   "cell_type": "markdown",
   "metadata": {},
   "source": [
    "Dari data ini diketahui bahwa urutan wilayah teramai ialah Manhattan, Brooklyn, Queens, Bronx, dan Statenisland. \n",
    "Nilai yang berdekatan ialah Manhattan dan Brooklyn mencapai >20,000 listing sedangkan Queens hanya sampai 25% dari nilai tersebut."
   ]
  },
  {
   "cell_type": "code",
   "execution_count": 12,
   "metadata": {},
   "outputs": [
    {
     "data": {
      "text/plain": [
       "([<matplotlib.patches.Wedge at 0x1eecd4a8ed0>,\n",
       "  <matplotlib.patches.Wedge at 0x1eecd625ed0>,\n",
       "  <matplotlib.patches.Wedge at 0x1eecd62c890>,\n",
       "  <matplotlib.patches.Wedge at 0x1eecd625b90>,\n",
       "  <matplotlib.patches.Wedge at 0x1eecd649e10>],\n",
       " [Text(0.30301613754115364, 1.0574408826925696, 'Brooklyn'),\n",
       "  Text(-0.97157028137342, 0.5158015009206289, 'Bronx'),\n",
       "  Text(-0.6183764501497931, -0.9097310404180681, 'Manhattan'),\n",
       "  Text(1.0079616011872188, -0.44046953417018325, 'Queens'),\n",
       "  Text(1.0996841146061016, -0.026359971225222757, 'Statenisland')],\n",
       " [Text(0.16528152956790199, 0.5767859360141289, '41%'),\n",
       "  Text(-0.5299474262036836, 0.28134627322943395, '2%'),\n",
       "  Text(-0.33729624553625076, -0.496216931137128, '44%'),\n",
       "  Text(0.5497972370112102, -0.24025610954737264, '12%'),\n",
       "  Text(0.5998276988760554, -0.014378166122848774, '1%')])"
      ]
     },
     "execution_count": 12,
     "metadata": {},
     "output_type": "execute_result"
    },
    {
     "data": {
      "image/png": "[encoded data removed]",
      "text/plain": [
       "<Figure size 600x600 with 1 Axes>"
      ]
     },
     "metadata": {},
     "output_type": "display_data"
    }
   ],
   "source": [
    "import matplotlib.pyplot as plt\n",
    "#buat pie chart\n",
    "label = ['Brooklyn', 'Bronx', 'Manhattan', 'Queens', 'Statenisland'] \n",
    "size = Brooklyn, Bronx, Manhattan, Queens, Statenisland\n",
    "colors = ('#8B4513', '#FFF8DC', '#93C572', '#E67F0D', '#D53032')\n",
    "explode = (0, 0, 0.1, 0, 0)\n",
    "\n",
    "fig = plt.figure(figsize=(6,6))\n",
    "ax = plt.axes()\n",
    "ax.pie(size, labels = label, colors=colors,autopct='%1.0f%%')"
   ]
  },
  {
   "cell_type": "markdown",
   "metadata": {},
   "source": [
    "Berikut penggambaran dalam % jumlah host, Brooklyn dan Manhattan mencapai nilai pareto 80%"
   ]
  },
  {
   "cell_type": "markdown",
   "metadata": {},
   "source": [
    "2. Bagaimana perbandingan lokasi properti tiap wilayah dengan avg harga propertinya\n",
    "\n",
    "Pertanyaan ini bertujuan menjawab dimana wilayah dengan harga tertinggi, dikarenakan di\"asumsikan\" wilayah dengan harga tinggi dikarenakan banyaknya demand (kebutuhan) > supply (ketersediaan) dibandingkan wilayah yang tidak ramai biasanya harganya lebih bersahabat"
   ]
  },
  {
   "cell_type": "code",
   "execution_count": 13,
   "metadata": {},
   "outputs": [
    {
     "name": "stdout",
     "output_type": "stream",
     "text": [
      "Rata - rata harga di Brooklyn 124.38320732192598\n",
      "Rata - rata harga di Manhattan 196.8758136743456\n",
      "Rata - rata harga di Queens 99.51764913519237\n",
      "Rata - rata harga di Statenisland 114.81233243967829\n",
      "Rata - rata harga di Bronx 87.4967919340055\n"
     ]
    }
   ],
   "source": [
    "#menghitung rata-rata harga per malam ditiap wilayah\n",
    "AvgBrooklyn = data[data['neighbourhood_group']=='Brooklyn']['price'].mean()\n",
    "AvgManhattan = data[data['neighbourhood_group']=='Manhattan']['price'].mean()\n",
    "AvgQueens = data[data['neighbourhood_group']=='Queens']['price'].mean()\n",
    "AvgStatenisland = data[data['neighbourhood_group']=='Staten Island']['price'].mean()\n",
    "AvgBronx = data[data['neighbourhood_group']=='Bronx']['price'].mean()\n",
    "\n",
    "\n",
    "print('Rata - rata harga di Brooklyn', AvgBrooklyn)\n",
    "print('Rata - rata harga di Manhattan', AvgManhattan)\n",
    "print('Rata - rata harga di Queens', AvgQueens)\n",
    "print('Rata - rata harga di Statenisland', AvgStatenisland)\n",
    "print('Rata - rata harga di Bronx', AvgBronx)\n"
   ]
  },
  {
   "cell_type": "markdown",
   "metadata": {},
   "source": [
    "dari data ini terlihat bahwa rata - rata dari harga termahal berurutan ialah Manhattan, Brooklyn, Staten Island, Queens, and Bronx. \n",
    "\n",
    "dari data ini mirip urutannya dengan lokasi yang teramai sebelumnya Manhattan, Brooklyn, Queens, Bronx, dan Statenisland.\n",
    "\n",
    "tapi ada hal yang mengejutkan yaitu Staten Island, lokasi yang tidak banyak penyewa (less competitor) memiliki harga ketiga termahal. "
   ]
  },
  {
   "cell_type": "code",
   "execution_count": 14,
   "metadata": {},
   "outputs": [
    {
     "data": {
      "image/png": "[encoded data removed]",
      "text/plain": [
       "<Figure size 600x400 with 1 Axes>"
      ]
     },
     "metadata": {},
     "output_type": "display_data"
    }
   ],
   "source": [
    "#buat bar chart\n",
    "label = ['Brooklyn', 'Bronx', 'Manhattan', 'Queens', 'Statenisland'] \n",
    "AvgPrice = AvgBrooklyn, AvgBronx, AvgManhattan, AvgQueens, AvgStatenisland\n",
    "colors = ('#8B4513', '#FFF8DC', '#93C572', '#E67F0D', '#D53032')\n",
    "explode = (0, 0, 0.1, 0, 0)\n",
    "\n",
    "fig = plt.figure(figsize=(6,4))\n",
    "ax = plt.axes()\n",
    "ax.bar(label,AvgPrice,color=colors)\n",
    "plt.xticks(rotation=90)\n",
    "\n",
    "ax.set_xlabel('Wilayah')\n",
    "ax.set_ylabel('AveragePrice in $')\n",
    "ax.set_title('Rata - rata harga di NYC berdasarkan Wilayah')\n",
    "\n",
    "plt.show()"
   ]
  },
  {
   "cell_type": "markdown",
   "metadata": {},
   "source": [
    "dari sini terlihat jelas avg harga Manhattan selisih hampir $75 dibandingkan Brooklyn yang juga sama - sama memiliki banyak sewa property"
   ]
  },
  {
   "cell_type": "markdown",
   "metadata": {},
   "source": [
    "3. Bagaimana perbandingan tipe property dengan avg harga propertinya?\n",
    "\n",
    "Pertanyaan ini bertujuan menjawab kebutuhan tipe property di tiap wilayah, diasumsikan tingginya harga suatu tipe property dikarenakan adanya kebutuhan yang juga tinggi"
   ]
  },
  {
   "cell_type": "code",
   "execution_count": 15,
   "metadata": {},
   "outputs": [
    {
     "data": {
      "text/plain": [
       "array(['Private room', 'Entire home/apt', 'Shared room'], dtype=object)"
      ]
     },
     "execution_count": 15,
     "metadata": {},
     "output_type": "execute_result"
    }
   ],
   "source": [
    "#menampilkan semua jenis kota dalam kolom kota\n",
    "data['room_type'].unique()"
   ]
  },
  {
   "cell_type": "markdown",
   "metadata": {},
   "source": [
    "terdapat 3 macam property yaitu private room = kamar, entire home/apt = keseluruhan rumah, dan juga shared room = berbagi kamar/rumah/apt"
   ]
  },
  {
   "cell_type": "code",
   "execution_count": 17,
   "metadata": {},
   "outputs": [
    {
     "name": "stdout",
     "output_type": "stream",
     "text": [
      "Jumlah private rooms 22326\n",
      "Jumlah entire home / apt 25409\n",
      "Jumlah shared room 1160\n"
     ]
    }
   ],
   "source": [
    "#menghitung jumlah tiap jenis property\n",
    "Jumlahprivate = data[data['room_type']=='Private room']['host_id'].count()\n",
    "Jumlahentire = data[data['room_type']=='Entire home/apt']['host_id'].count()\n",
    "Jumlahshared = data[data['room_type']=='Shared room']['host_id'].count()\n",
    "\n",
    "print('Jumlah private rooms', Jumlahprivate)\n",
    "print('Jumlah entire home / apt', Jumlahentire)\n",
    "print('Jumlah shared room', Jumlahshared)\n"
   ]
  },
  {
   "cell_type": "markdown",
   "metadata": {},
   "source": [
    "sebelum kita ke harga masing-masing tipe property, dari keseluruhan data diketahui bahwa jumlah tipe property terbanyak ialah Entire home, kemudian private rooms, terakhir shared room\n",
    "\n",
    "namun nilai shared rooms hanya 5% dari jumlah private rooms (urutan kedua)"
   ]
  },
  {
   "cell_type": "code",
   "execution_count": 18,
   "metadata": {},
   "outputs": [
    {
     "data": {
      "image/png": "[encoded data removed]",
      "text/plain": [
       "<Figure size 600x400 with 1 Axes>"
      ]
     },
     "metadata": {},
     "output_type": "display_data"
    }
   ],
   "source": [
    "#buat bar chart\n",
    "label = ['Private', 'Entire home/apt', 'Shared room'] \n",
    "AvgTipe = Jumlahprivate, Jumlahentire, Jumlahshared\n",
    "colors = ('#93C572', '#E67F0D', '#D53032')\n",
    "explode = (0, 0, 0.1, 0, 0)\n",
    "\n",
    "fig = plt.figure(figsize=(6,4))\n",
    "ax = plt.axes()\n",
    "ax.bar(label,AvgTipe,color=colors)\n",
    "plt.xticks(rotation=90)\n",
    "\n",
    "ax.set_xlabel('Tipe Property')\n",
    "ax.set_ylabel('Jumlah Property $')\n",
    "ax.set_title('Jumlah listing berdasarkan tipe property di NYC')\n",
    "\n",
    "plt.show()"
   ]
  },
  {
   "cell_type": "code",
   "execution_count": 19,
   "metadata": {},
   "outputs": [
    {
     "name": "stdout",
     "output_type": "stream",
     "text": [
      "Rata - rata harga private rooms 89.78097285675894\n",
      "Rata - rata harga entire home / apt 211.79424613325986\n",
      "Rata - rata harga shared room 70.12758620689655\n"
     ]
    }
   ],
   "source": [
    "#menghitung rata-rata harga tiap jenis property\n",
    "Avgprivate = data[data['room_type']=='Private room']['price'].mean()\n",
    "Avgentire = data[data['room_type']=='Entire home/apt']['price'].mean()\n",
    "Avgshared = data[data['room_type']=='Shared room']['price'].mean()\n",
    "\n",
    "print('Rata - rata harga private rooms', Avgprivate)\n",
    "print('Rata - rata harga entire home / apt', Avgentire)\n",
    "print('Rata - rata harga shared room', Avgshared)\n"
   ]
  },
  {
   "cell_type": "markdown",
   "metadata": {},
   "source": [
    "dari informasi rata - rata harga diketahui harga termahal entire home/apt $ 211 kemudian private rooms, terakhir shared room\n",
    "\n",
    "hal ini wajar berdasarkan jenis tipe property nya, harga sewa rumah/apart otomatis jauh lebih mahal dibandingkan hanya kamar"
   ]
  },
  {
   "cell_type": "code",
   "execution_count": 20,
   "metadata": {},
   "outputs": [
    {
     "data": {
      "image/png": "[encoded data removed]",
      "text/plain": [
       "<Figure size 600x400 with 1 Axes>"
      ]
     },
     "metadata": {},
     "output_type": "display_data"
    }
   ],
   "source": [
    "#membuat bar chart\n",
    "label = ['Private', 'Entire home/apt', 'Shared room'] \n",
    "AvgTipe = Avgprivate, Avgentire, Avgshared\n",
    "colors = ('#93C572', '#E67F0D', '#D53032')\n",
    "explode = (0, 0, 0.1, 0, 0)\n",
    "\n",
    "fig = plt.figure(figsize=(6,4))\n",
    "ax = plt.axes()\n",
    "ax.bar(label,AvgTipe,color=colors)\n",
    "plt.xticks(rotation=90)\n",
    "\n",
    "ax.set_xlabel('Tipe Property')\n",
    "ax.set_ylabel('AveragePrice in $')\n",
    "ax.set_title('Rata - rata harga tipe property di NYC')\n",
    "\n",
    "plt.show()"
   ]
  },
  {
   "cell_type": "markdown",
   "metadata": {},
   "source": [
    "4. Bagaimana hubungan tipe property dengan tingkat okupansi\n",
    "\n",
    "Pertanyaan ini berusaha untuk menjawab tipe property mana yang paling banyak diminati berdasarkan tingkat okupansinya (seberapa tinggi property sebut tidak available)\n",
    "\n",
    "di\"asumsi\"kan kolom \"availability_365\" itu menandakan ketersediaan selama setahun, jika isinya 0 maka menandakan listing tersebut full selama setahun, sebaliknya jika isinya 365 maka menandakan listing tersebut belum ada peminatnya selama setahun tersebut karena tersedia setahun penuh\n",
    "\n",
    "sebelumnya kita akan membuat kolom baru dulu yang mencerminkan tingkat okupansi"
   ]
  },
  {
   "cell_type": "code",
   "execution_count": 21,
   "metadata": {},
   "outputs": [],
   "source": [
    "#kolom tingkat okupansi\n",
    "data['occupaid'] = 365 - data['availability_365']"
   ]
  },
  {
   "cell_type": "code",
   "execution_count": 22,
   "metadata": {},
   "outputs": [
    {
     "data": {
      "text/html": [
       "<div>\n",
       "<style scoped>\n",
       "    .dataframe tbody tr th:only-of-type {\n",
       "        vertical-align: middle;\n",
       "    }\n",
       "\n",
       "    .dataframe tbody tr th {\n",
       "        vertical-align: top;\n",
       "    }\n",
       "\n",
       "    .dataframe thead th {\n",
       "        text-align: right;\n",
       "    }\n",
       "</style>\n",
       "<table border=\"1\" class=\"dataframe\">\n",
       "  <thead>\n",
       "    <tr style=\"text-align: right;\">\n",
       "      <th></th>\n",
       "      <th>name</th>\n",
       "      <th>host_id</th>\n",
       "      <th>neighbourhood_group</th>\n",
       "      <th>neighbourhood</th>\n",
       "      <th>latitude</th>\n",
       "      <th>longitude</th>\n",
       "      <th>room_type</th>\n",
       "      <th>price</th>\n",
       "      <th>minimum_nights</th>\n",
       "      <th>number_of_reviews</th>\n",
       "      <th>availability_365</th>\n",
       "      <th>occupaid</th>\n",
       "    </tr>\n",
       "  </thead>\n",
       "  <tbody>\n",
       "    <tr>\n",
       "      <th>0</th>\n",
       "      <td>Clean &amp; quiet apt home by the park</td>\n",
       "      <td>2787</td>\n",
       "      <td>Brooklyn</td>\n",
       "      <td>Kensington</td>\n",
       "      <td>40.64749</td>\n",
       "      <td>-73.97237</td>\n",
       "      <td>Private room</td>\n",
       "      <td>149</td>\n",
       "      <td>1</td>\n",
       "      <td>9</td>\n",
       "      <td>365</td>\n",
       "      <td>0</td>\n",
       "    </tr>\n",
       "    <tr>\n",
       "      <th>1</th>\n",
       "      <td>Skylit Midtown Castle</td>\n",
       "      <td>2845</td>\n",
       "      <td>Manhattan</td>\n",
       "      <td>Midtown</td>\n",
       "      <td>40.75362</td>\n",
       "      <td>-73.98377</td>\n",
       "      <td>Entire home/apt</td>\n",
       "      <td>225</td>\n",
       "      <td>1</td>\n",
       "      <td>45</td>\n",
       "      <td>355</td>\n",
       "      <td>10</td>\n",
       "    </tr>\n",
       "  </tbody>\n",
       "</table>\n",
       "</div>"
      ],
      "text/plain": [
       "                                 name  host_id neighbourhood_group  \\\n",
       "0  Clean & quiet apt home by the park     2787            Brooklyn   \n",
       "1               Skylit Midtown Castle     2845           Manhattan   \n",
       "\n",
       "  neighbourhood  latitude  longitude        room_type  price  minimum_nights  \\\n",
       "0    Kensington  40.64749  -73.97237     Private room    149               1   \n",
       "1       Midtown  40.75362  -73.98377  Entire home/apt    225               1   \n",
       "\n",
       "   number_of_reviews  availability_365  occupaid  \n",
       "0                  9               365         0  \n",
       "1                 45               355        10  "
      ]
     },
     "execution_count": 22,
     "metadata": {},
     "output_type": "execute_result"
    }
   ],
   "source": [
    "#menampilkan data\n",
    "data.head(2)"
   ]
  },
  {
   "cell_type": "markdown",
   "metadata": {},
   "source": [
    "terlihat adanya kolom occupaied yang baru ditambahkan"
   ]
  },
  {
   "cell_type": "code",
   "execution_count": 24,
   "metadata": {},
   "outputs": [
    {
     "name": "stdout",
     "output_type": "stream",
     "text": [
      "tingkat okupansi private rooms 5666251\n",
      "tingkat okupansi entire home / apt 6430502\n",
      "tingkat okupansi shared room 235479\n"
     ]
    }
   ],
   "source": [
    "#menghitung tingkat okupansi untuk tiap jenis property\n",
    "Ocuprivate = data[data['room_type']=='Private room']['occupaid'].sum()\n",
    "Ocuentire = data[data['room_type']=='Entire home/apt']['occupaid'].sum()\n",
    "Ocushared = data[data['room_type']=='Shared room']['occupaid'].sum()\n",
    "\n",
    "print('tingkat okupansi private rooms', Ocuprivate)\n",
    "print('tingkat okupansi entire home / apt', Ocuentire)\n",
    "print('tingkat okupansi shared room', Ocushared)\n"
   ]
  },
  {
   "cell_type": "markdown",
   "metadata": {},
   "source": [
    "Jika tipe property dikelompokkan diketahui bahwa tingkat okupansi tertinggi ialah Entire home/apt kemudian private rooms, terakhir shared room"
   ]
  },
  {
   "cell_type": "code",
   "execution_count": 31,
   "metadata": {},
   "outputs": [
    {
     "data": {
      "image/png": "[encoded data removed]",
      "text/plain": [
       "<Figure size 640x480 with 1 Axes>"
      ]
     },
     "metadata": {},
     "output_type": "display_data"
    }
   ],
   "source": [
    "#buat bar horisontal\n",
    "label = ['Private', 'Entire home/apt', 'Shared room'] \n",
    "tingkatOkupansi = Ocuprivate, Ocuentire, Ocushared\n",
    "colors = ('#93C572', '#E67F0D', '#D53032')\n",
    "explode = (0, 0, 0.1, 0, 0)\n",
    "\n",
    "plt.barh(label, tingkatOkupansi, color=colors)\n",
    "plt.title('Hubungan antara tipe property dan okupansi level')\n",
    "plt.xlabel('Occupancy Level')\n",
    "plt.ylabel('Room Type')\n",
    "\n",
    "plt.show()"
   ]
  },
  {
   "cell_type": "markdown",
   "metadata": {},
   "source": [
    "terlihat lebih banyak yang memilih entire home / apt, biasanya yang memilih tipe apartemen ini ialah Family yang telah memiliki anak, sedangkan private lebih ke single atau hanya pasangan.\n",
    "\n",
    "Shared room sangat sedikit peminatnya selain karena hanya bisa untuk single ada faktor lain bahwa tidak sukanya terganggu privasi "
   ]
  },
  {
   "cell_type": "markdown",
   "metadata": {},
   "source": [
    "#### Analisa inferential\n",
    "\n",
    "Membandingkan korelasi antara pendapatan dari 2 tipe property yang memiliki okupansi terendah dan okupansi tertinggi\n",
    "\n",
    "\n",
    "- tingkat okupansi private rooms 5666251\n",
    "- tingkat okupansi entire home / apt 6430502 (tertinggi)\n",
    "- tingkat okupansi shared room 235479 (terendah)\n",
    "\n",
    "Tipe properti yang diambil ialah shared room dan entire home / apt\n"
   ]
  },
  {
   "cell_type": "markdown",
   "metadata": {},
   "source": [
    "Tujuan melakukan analisa ini untuk mengecek korelasi pendapatan dengan tingkat okupansi, diasumsikan jika tingkat okupansi tinggi maka seharusnya pendapatan juga tinggi sebaliknya jika tingkat pendapatan juga rendah, apakah betul?"
   ]
  },
  {
   "cell_type": "code",
   "execution_count": 26,
   "metadata": {},
   "outputs": [],
   "source": [
    "#menambah kolom revenue yaitu tingkat okupansi dikali harga\n",
    "data['revenue'] = data['occupaid'] * data['price']"
   ]
  },
  {
   "cell_type": "markdown",
   "metadata": {},
   "source": [
    "sebelumnya kita akan membuat dulu kolom revenue dimana didapat dari price x tingkat okupansi"
   ]
  },
  {
   "cell_type": "code",
   "execution_count": 28,
   "metadata": {},
   "outputs": [
    {
     "data": {
      "text/html": [
       "<div>\n",
       "<style scoped>\n",
       "    .dataframe tbody tr th:only-of-type {\n",
       "        vertical-align: middle;\n",
       "    }\n",
       "\n",
       "    .dataframe tbody tr th {\n",
       "        vertical-align: top;\n",
       "    }\n",
       "\n",
       "    .dataframe thead th {\n",
       "        text-align: right;\n",
       "    }\n",
       "</style>\n",
       "<table border=\"1\" class=\"dataframe\">\n",
       "  <thead>\n",
       "    <tr style=\"text-align: right;\">\n",
       "      <th></th>\n",
       "      <th>name</th>\n",
       "      <th>host_id</th>\n",
       "      <th>neighbourhood_group</th>\n",
       "      <th>neighbourhood</th>\n",
       "      <th>latitude</th>\n",
       "      <th>longitude</th>\n",
       "      <th>room_type</th>\n",
       "      <th>price</th>\n",
       "      <th>minimum_nights</th>\n",
       "      <th>number_of_reviews</th>\n",
       "      <th>availability_365</th>\n",
       "      <th>occupaid</th>\n",
       "      <th>revenue</th>\n",
       "    </tr>\n",
       "  </thead>\n",
       "  <tbody>\n",
       "    <tr>\n",
       "      <th>48892</th>\n",
       "      <td>Sunny Studio at Historical Neighborhood</td>\n",
       "      <td>23492952</td>\n",
       "      <td>Manhattan</td>\n",
       "      <td>Harlem</td>\n",
       "      <td>40.81475</td>\n",
       "      <td>-73.94867</td>\n",
       "      <td>Entire home/apt</td>\n",
       "      <td>115</td>\n",
       "      <td>10</td>\n",
       "      <td>0</td>\n",
       "      <td>27</td>\n",
       "      <td>338</td>\n",
       "      <td>38870</td>\n",
       "    </tr>\n",
       "    <tr>\n",
       "      <th>48893</th>\n",
       "      <td>43rd St. Time Square-cozy single bed</td>\n",
       "      <td>30985759</td>\n",
       "      <td>Manhattan</td>\n",
       "      <td>Hell's Kitchen</td>\n",
       "      <td>40.75751</td>\n",
       "      <td>-73.99112</td>\n",
       "      <td>Shared room</td>\n",
       "      <td>55</td>\n",
       "      <td>1</td>\n",
       "      <td>0</td>\n",
       "      <td>2</td>\n",
       "      <td>363</td>\n",
       "      <td>19965</td>\n",
       "    </tr>\n",
       "    <tr>\n",
       "      <th>48894</th>\n",
       "      <td>Trendy duplex in the very heart of Hell's Kitchen</td>\n",
       "      <td>68119814</td>\n",
       "      <td>Manhattan</td>\n",
       "      <td>Hell's Kitchen</td>\n",
       "      <td>40.76404</td>\n",
       "      <td>-73.98933</td>\n",
       "      <td>Private room</td>\n",
       "      <td>90</td>\n",
       "      <td>7</td>\n",
       "      <td>0</td>\n",
       "      <td>23</td>\n",
       "      <td>342</td>\n",
       "      <td>30780</td>\n",
       "    </tr>\n",
       "  </tbody>\n",
       "</table>\n",
       "</div>"
      ],
      "text/plain": [
       "                                                    name   host_id  \\\n",
       "48892            Sunny Studio at Historical Neighborhood  23492952   \n",
       "48893               43rd St. Time Square-cozy single bed  30985759   \n",
       "48894  Trendy duplex in the very heart of Hell's Kitchen  68119814   \n",
       "\n",
       "      neighbourhood_group   neighbourhood  latitude  longitude  \\\n",
       "48892           Manhattan          Harlem  40.81475  -73.94867   \n",
       "48893           Manhattan  Hell's Kitchen  40.75751  -73.99112   \n",
       "48894           Manhattan  Hell's Kitchen  40.76404  -73.98933   \n",
       "\n",
       "             room_type  price  minimum_nights  number_of_reviews  \\\n",
       "48892  Entire home/apt    115              10                  0   \n",
       "48893      Shared room     55               1                  0   \n",
       "48894     Private room     90               7                  0   \n",
       "\n",
       "       availability_365  occupaid  revenue  \n",
       "48892                27       338    38870  \n",
       "48893                 2       363    19965  \n",
       "48894                23       342    30780  "
      ]
     },
     "execution_count": 28,
     "metadata": {},
     "output_type": "execute_result"
    }
   ],
   "source": [
    "data.tail(3)"
   ]
  },
  {
   "cell_type": "markdown",
   "metadata": {},
   "source": [
    "terlihat bahwa kolom baru revenue berhasil ditambahkan"
   ]
  },
  {
   "cell_type": "code",
   "execution_count": 30,
   "metadata": {},
   "outputs": [
    {
     "name": "stdout",
     "output_type": "stream",
     "text": [
      "Average revenue = 35932.48201247571\n",
      "Average revenue tipe okupansi tertinggi = 49444.142154354755\n",
      "Average revenue tipe okupansi terendah = 15720.695689655173\n"
     ]
    }
   ],
   "source": [
    "#Mendefinisikan tipe unit tingkat okupansi terendah dan tertinggi dengan revenue tiap unit\n",
    "\n",
    "Entire = data[data['room_type'] =='Entire home/apt']['revenue']\n",
    "Shared = data[data['room_type'] =='Shared room']['revenue']\n",
    "\n",
    "Avgrevenue = data['revenue'].mean()\n",
    "RevenueEntire = data[data['room_type'] =='Entire home/apt']['revenue'].mean()\n",
    "RevenueShared = data[data['room_type'] =='Shared room']['revenue'].mean()\n",
    "\n",
    "print ('Average revenue =', Avgrevenue)\n",
    "print('Average revenue tipe okupansi tertinggi =', RevenueEntire)\n",
    "print('Average revenue tipe okupansi terendah =', RevenueShared)"
   ]
  },
  {
   "cell_type": "markdown",
   "metadata": {},
   "source": [
    "terlihat dari perhitungan hasil rata-rata pendapatan tipe okupansi terendah (shared room) lebih kecil dibandingkan rata-rata pendapatan tipe okupansi tertinggi (entire home/aprt)"
   ]
  },
  {
   "cell_type": "markdown",
   "metadata": {},
   "source": [
    "Kita ingin menguji menggunakan analisa inferential (two sided) \n",
    "\n",
    "H0: `Rata-rata pendapatan okupasi terendah = rata-rata pendapatan tertinggi`\n",
    "\n",
    "H1: `Rata-rata pendapatan okupasi terendah != rata-rata pendapatan tertinggi`"
   ]
  },
  {
   "cell_type": "code",
   "execution_count": 32,
   "metadata": {},
   "outputs": [
    {
     "name": "stdout",
     "output_type": "stream",
     "text": [
      "T-Statistic: 15.885698382475628\n",
      "P-value: 1.4508418908626648e-56\n"
     ]
    }
   ],
   "source": [
    "from scipy import stats\n",
    "#analisa inferential - two sided\n",
    "t_stat, p_val = stats.ttest_ind(Entire,Shared)\n",
    "print('T-Statistic:',t_stat)\n",
    "print('P-value:',p_val) "
   ]
  },
  {
   "cell_type": "markdown",
   "metadata": {},
   "source": [
    "dikarenakan p value hasilnya dibawah 0.5 maka artinya hipotesa 0 bisa ditolak H0: `Rata-rata pendapatan okupasi terendah = rata-rata pendapatan tertinggi`\n",
    "\n",
    "maka betul ada nya H1: `Rata-rata pendapatan okupasi terendah != rata-rata pendapatan tertinggi`"
   ]
  },
  {
   "cell_type": "markdown",
   "metadata": {},
   "source": [
    "#### Analisa deskriptive \n",
    "\n",
    "Berapa average, median, dan mode harga per malam di wilayah dan kawasan paling ramai di NYC?"
   ]
  },
  {
   "cell_type": "code",
   "execution_count": 33,
   "metadata": {},
   "outputs": [
    {
     "data": {
      "text/plain": [
       "neighbourhood\n",
       "Harlem                 2658\n",
       "Upper West Side        1971\n",
       "Hell's Kitchen         1958\n",
       "East Village           1853\n",
       "Upper East Side        1798\n",
       "Midtown                1545\n",
       "East Harlem            1117\n",
       "Chelsea                1113\n",
       "Lower East Side         911\n",
       "Washington Heights      899\n",
       "West Village            768\n",
       "Financial District      744\n",
       "Murray Hill             485\n",
       "Kips Bay                470\n",
       "Greenwich Village       392\n",
       "Chinatown               368\n",
       "SoHo                    358\n",
       "Morningside Heights     346\n",
       "Gramercy                338\n",
       "Theater District        288\n",
       "Nolita                  253\n",
       "Inwood                  252\n",
       "Tribeca                 177\n",
       "Little Italy            121\n",
       "Flatiron District        80\n",
       "NoHo                     78\n",
       "Roosevelt Island         77\n",
       "Two Bridges              72\n",
       "Battery Park City        70\n",
       "Civic Center             52\n",
       "Stuyvesant Town          37\n",
       "Marble Hill              12\n",
       "Name: count, dtype: int64"
      ]
     },
     "execution_count": 33,
     "metadata": {},
     "output_type": "execute_result"
    }
   ],
   "source": [
    "#filter neighbourhood dari neighbourhood group manhattan\n",
    "kawasan= data[data['neighbourhood_group'] == 'Manhattan']\n",
    "kawasan['neighbourhood'].value_counts()"
   ]
  },
  {
   "cell_type": "markdown",
   "metadata": {},
   "source": [
    "Setelah mengetahui wilayah termahal Manhattan, berikut 3 kawasan atau sub - wilayah termahal secara berurutan\n",
    "\n",
    "Harlem                 2658\n",
    "Upper West Side        1971\n",
    "Hell's Kitchen         1958"
   ]
  },
  {
   "cell_type": "code",
   "execution_count": 97,
   "metadata": {},
   "outputs": [
    {
     "name": "stdout",
     "output_type": "stream",
     "text": [
      "Rata - rata harga pada Harlem, Manhattan 118.97404063205417\n",
      "Nilai tengah harga pada Harlem, Manhattan 89.0\n",
      "Nilai tersering harga pada Harlem, Manhattan 100\n"
     ]
    }
   ],
   "source": [
    "#menghitung rata - rata, median, mode harga dari wilayah dan kawasan yang paling ramai\n",
    "Rata_ramai = data[data['neighbourhood']=='Harlem']['price'].mean()\n",
    "Median_ramai = data[data['neighbourhood']=='Harlem']['price'].median()\n",
    "Mode_ramai = data[data['neighbourhood']=='Harlem']['price'].mode()[0]\n",
    "\n",
    "print('Rata - rata harga pada Harlem, Manhattan', Rata_ramai)\n",
    "print('Nilai tengah harga pada Harlem, Manhattan', Median_ramai)\n",
    "print('Nilai tersering harga pada Harlem, Manhattan', Mode_ramai)"
   ]
  },
  {
   "cell_type": "markdown",
   "metadata": {},
   "source": [
    "Dari data yang diolah diketahui rata-rata 118.9, median 89 dan modusnya adalah 100, sehingga diketahui rata - rata harga per malam di harlem ialah $ 118.9, namun harga nilai tengah $ 89 dan kebanyakan harga per malam ialah $ 100\n",
    "\n",
    "Nilai yang cukup jauh antara rata - rata, median, dan modusnya menandakan adanya outlier"
   ]
  },
  {
   "cell_type": "markdown",
   "metadata": {},
   "source": [
    "## KESIMPULAN\n",
    "\n",
    "- Investor dapat membuka apartemen di Wilayah yang paling ramai yaitu Manhattan terlihat dari banyaknya jumlah penyewa property (host) dan harga rata rata yang jauh lebih mahal $75 dibandingkan posisi kedua Brooklyn. Brooklyn memiliki jumlah penyewa yang hampir sama (supply) dengan Manhattan namun harganya jauh lebih murah \n",
    "\n",
    "- Investor sebaiknya berinvestasi ke jenis property Entire home selain terbukti banyaknya host yang menawarkan entire home/apt (asumsi banyak supply karena banyaknya demand), harga yang lebih mahal per malamnya, dan juga tingkat okupansi nya yang tinggi.\n",
    "\n",
    "- Berdasarkan perhitungan rata - rata pendapatan tingkat okupansi yang tinggi (entire home/apt) melebihi rata - rata pendapatan keseluruhan populasi. Analisa hipotesa two - side memperlihatkan ada nya korelasi antara tingkat okupansi dengan rata - rata pendapatan\n",
    "\n",
    "- Jika investor ingin berinvestasi di Manhattan, kita bisa memilih 3 lokasi yang memiliki harga termahal yaitu Harlem, Upper West Side, dan Hells Kitchen\n",
    "\n",
    "- Jika investor ingin berinvestasi di Harlem, advice untuk rentang harga per malam agar \"kompetitif\" bisa ditentukan antara $ 89 < x > $ 100, antara nilai median (tengah) dan modus (harga yang sering muncul). Namun angka ini masih belum bisa dipastikan dikarenakan adanya kemungkinan outlier, dan belum diketahui rentang nilai distribusi normal dan percentage dari outliernya\n",
    "\n",
    "\n",
    "note:\n",
    "analisa ini hanya diambil berdasarkan dari informasi dari tabel, belum memperhatikan faktor-faktor internal/external lainnya"
   ]
  }
 ],
 "metadata": {
  "kernelspec": {
   "display_name": "base",
   "language": "python",
   "name": "python3"
  },
  "language_info": {
   "codemirror_mode": {
    "name": "ipython",
    "version": 3
   },
   "file_extension": ".py",
   "mimetype": "text/x-python",
   "name": "python",
   "nbconvert_exporter": "python",
   "pygments_lexer": "ipython3",
   "version": "3.11.5"
  }
 },
 "nbformat": 4,
 "nbformat_minor": 2
}
